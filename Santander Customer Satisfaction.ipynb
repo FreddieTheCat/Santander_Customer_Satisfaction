{
 "cells": [
  {
   "cell_type": "code",
   "execution_count": 27,
   "metadata": {},
   "outputs": [
    {
     "name": "stdout",
     "output_type": "stream",
     "text": [
      "2.0.0-rc0\n"
     ]
    }
   ],
   "source": [
    "#importing the libraries\n",
    "import tensorflow as tf\n",
    "from tensorflow import keras\n",
    "from tensorflow.keras import Sequential\n",
    "from tensorflow.keras.layers import Flatten,Dense,Conv1D,BatchNormalization,MaxPool1D,Dropout\n",
    "from tensorflow.keras.optimizers import Adam\n",
    "import numpy as np\n",
    "import pandas as pd\n",
    "from sklearn.model_selection import train_test_split\n",
    "from sklearn.preprocessing import LabelEncoder,StandardScaler\n",
    "from sklearn.metrics import confusion_matrix,accuracy_score\n",
    "from sklearn.feature_selection import VarianceThreshold\n",
    "import matplotlib.pyplot as plt\n",
    "print(tf.__version__)"
   ]
  },
  {
   "cell_type": "code",
   "execution_count": 2,
   "metadata": {},
   "outputs": [],
   "source": [
    "#get the data\n",
    "data=pd.read_csv('C:\\\\Users\\\\endri.mosko\\\\Desktop\\\\Project in Jupyter notebook\\\\Customer Churn-Project\\\\data\\\\train.csv')"
   ]
  },
  {
   "cell_type": "code",
   "execution_count": 3,
   "metadata": {},
   "outputs": [
    {
     "data": {
      "text/html": [
       "<div>\n",
       "<style scoped>\n",
       "    .dataframe tbody tr th:only-of-type {\n",
       "        vertical-align: middle;\n",
       "    }\n",
       "\n",
       "    .dataframe tbody tr th {\n",
       "        vertical-align: top;\n",
       "    }\n",
       "\n",
       "    .dataframe thead th {\n",
       "        text-align: right;\n",
       "    }\n",
       "</style>\n",
       "<table border=\"1\" class=\"dataframe\">\n",
       "  <thead>\n",
       "    <tr style=\"text-align: right;\">\n",
       "      <th></th>\n",
       "      <th>ID</th>\n",
       "      <th>var3</th>\n",
       "      <th>var15</th>\n",
       "      <th>imp_ent_var16_ult1</th>\n",
       "      <th>imp_op_var39_comer_ult1</th>\n",
       "      <th>imp_op_var39_comer_ult3</th>\n",
       "      <th>imp_op_var40_comer_ult1</th>\n",
       "      <th>imp_op_var40_comer_ult3</th>\n",
       "      <th>imp_op_var40_efect_ult1</th>\n",
       "      <th>imp_op_var40_efect_ult3</th>\n",
       "      <th>...</th>\n",
       "      <th>saldo_medio_var33_hace2</th>\n",
       "      <th>saldo_medio_var33_hace3</th>\n",
       "      <th>saldo_medio_var33_ult1</th>\n",
       "      <th>saldo_medio_var33_ult3</th>\n",
       "      <th>saldo_medio_var44_hace2</th>\n",
       "      <th>saldo_medio_var44_hace3</th>\n",
       "      <th>saldo_medio_var44_ult1</th>\n",
       "      <th>saldo_medio_var44_ult3</th>\n",
       "      <th>var38</th>\n",
       "      <th>TARGET</th>\n",
       "    </tr>\n",
       "  </thead>\n",
       "  <tbody>\n",
       "    <tr>\n",
       "      <td>0</td>\n",
       "      <td>1</td>\n",
       "      <td>2</td>\n",
       "      <td>23</td>\n",
       "      <td>0.0</td>\n",
       "      <td>0.0</td>\n",
       "      <td>0.0</td>\n",
       "      <td>0.0</td>\n",
       "      <td>0.0</td>\n",
       "      <td>0.0</td>\n",
       "      <td>0.0</td>\n",
       "      <td>...</td>\n",
       "      <td>0.0</td>\n",
       "      <td>0.0</td>\n",
       "      <td>0.0</td>\n",
       "      <td>0.0</td>\n",
       "      <td>0.0</td>\n",
       "      <td>0.0</td>\n",
       "      <td>0.0</td>\n",
       "      <td>0.0</td>\n",
       "      <td>39205.170000</td>\n",
       "      <td>0</td>\n",
       "    </tr>\n",
       "    <tr>\n",
       "      <td>1</td>\n",
       "      <td>3</td>\n",
       "      <td>2</td>\n",
       "      <td>34</td>\n",
       "      <td>0.0</td>\n",
       "      <td>0.0</td>\n",
       "      <td>0.0</td>\n",
       "      <td>0.0</td>\n",
       "      <td>0.0</td>\n",
       "      <td>0.0</td>\n",
       "      <td>0.0</td>\n",
       "      <td>...</td>\n",
       "      <td>0.0</td>\n",
       "      <td>0.0</td>\n",
       "      <td>0.0</td>\n",
       "      <td>0.0</td>\n",
       "      <td>0.0</td>\n",
       "      <td>0.0</td>\n",
       "      <td>0.0</td>\n",
       "      <td>0.0</td>\n",
       "      <td>49278.030000</td>\n",
       "      <td>0</td>\n",
       "    </tr>\n",
       "    <tr>\n",
       "      <td>2</td>\n",
       "      <td>4</td>\n",
       "      <td>2</td>\n",
       "      <td>23</td>\n",
       "      <td>0.0</td>\n",
       "      <td>0.0</td>\n",
       "      <td>0.0</td>\n",
       "      <td>0.0</td>\n",
       "      <td>0.0</td>\n",
       "      <td>0.0</td>\n",
       "      <td>0.0</td>\n",
       "      <td>...</td>\n",
       "      <td>0.0</td>\n",
       "      <td>0.0</td>\n",
       "      <td>0.0</td>\n",
       "      <td>0.0</td>\n",
       "      <td>0.0</td>\n",
       "      <td>0.0</td>\n",
       "      <td>0.0</td>\n",
       "      <td>0.0</td>\n",
       "      <td>67333.770000</td>\n",
       "      <td>0</td>\n",
       "    </tr>\n",
       "    <tr>\n",
       "      <td>3</td>\n",
       "      <td>8</td>\n",
       "      <td>2</td>\n",
       "      <td>37</td>\n",
       "      <td>0.0</td>\n",
       "      <td>195.0</td>\n",
       "      <td>195.0</td>\n",
       "      <td>0.0</td>\n",
       "      <td>0.0</td>\n",
       "      <td>0.0</td>\n",
       "      <td>0.0</td>\n",
       "      <td>...</td>\n",
       "      <td>0.0</td>\n",
       "      <td>0.0</td>\n",
       "      <td>0.0</td>\n",
       "      <td>0.0</td>\n",
       "      <td>0.0</td>\n",
       "      <td>0.0</td>\n",
       "      <td>0.0</td>\n",
       "      <td>0.0</td>\n",
       "      <td>64007.970000</td>\n",
       "      <td>0</td>\n",
       "    </tr>\n",
       "    <tr>\n",
       "      <td>4</td>\n",
       "      <td>10</td>\n",
       "      <td>2</td>\n",
       "      <td>39</td>\n",
       "      <td>0.0</td>\n",
       "      <td>0.0</td>\n",
       "      <td>0.0</td>\n",
       "      <td>0.0</td>\n",
       "      <td>0.0</td>\n",
       "      <td>0.0</td>\n",
       "      <td>0.0</td>\n",
       "      <td>...</td>\n",
       "      <td>0.0</td>\n",
       "      <td>0.0</td>\n",
       "      <td>0.0</td>\n",
       "      <td>0.0</td>\n",
       "      <td>0.0</td>\n",
       "      <td>0.0</td>\n",
       "      <td>0.0</td>\n",
       "      <td>0.0</td>\n",
       "      <td>117310.979016</td>\n",
       "      <td>0</td>\n",
       "    </tr>\n",
       "  </tbody>\n",
       "</table>\n",
       "<p>5 rows × 371 columns</p>\n",
       "</div>"
      ],
      "text/plain": [
       "   ID  var3  var15  imp_ent_var16_ult1  imp_op_var39_comer_ult1  \\\n",
       "0   1     2     23                 0.0                      0.0   \n",
       "1   3     2     34                 0.0                      0.0   \n",
       "2   4     2     23                 0.0                      0.0   \n",
       "3   8     2     37                 0.0                    195.0   \n",
       "4  10     2     39                 0.0                      0.0   \n",
       "\n",
       "   imp_op_var39_comer_ult3  imp_op_var40_comer_ult1  imp_op_var40_comer_ult3  \\\n",
       "0                      0.0                      0.0                      0.0   \n",
       "1                      0.0                      0.0                      0.0   \n",
       "2                      0.0                      0.0                      0.0   \n",
       "3                    195.0                      0.0                      0.0   \n",
       "4                      0.0                      0.0                      0.0   \n",
       "\n",
       "   imp_op_var40_efect_ult1  imp_op_var40_efect_ult3  ...  \\\n",
       "0                      0.0                      0.0  ...   \n",
       "1                      0.0                      0.0  ...   \n",
       "2                      0.0                      0.0  ...   \n",
       "3                      0.0                      0.0  ...   \n",
       "4                      0.0                      0.0  ...   \n",
       "\n",
       "   saldo_medio_var33_hace2  saldo_medio_var33_hace3  saldo_medio_var33_ult1  \\\n",
       "0                      0.0                      0.0                     0.0   \n",
       "1                      0.0                      0.0                     0.0   \n",
       "2                      0.0                      0.0                     0.0   \n",
       "3                      0.0                      0.0                     0.0   \n",
       "4                      0.0                      0.0                     0.0   \n",
       "\n",
       "   saldo_medio_var33_ult3  saldo_medio_var44_hace2  saldo_medio_var44_hace3  \\\n",
       "0                     0.0                      0.0                      0.0   \n",
       "1                     0.0                      0.0                      0.0   \n",
       "2                     0.0                      0.0                      0.0   \n",
       "3                     0.0                      0.0                      0.0   \n",
       "4                     0.0                      0.0                      0.0   \n",
       "\n",
       "   saldo_medio_var44_ult1  saldo_medio_var44_ult3          var38  TARGET  \n",
       "0                     0.0                     0.0   39205.170000       0  \n",
       "1                     0.0                     0.0   49278.030000       0  \n",
       "2                     0.0                     0.0   67333.770000       0  \n",
       "3                     0.0                     0.0   64007.970000       0  \n",
       "4                     0.0                     0.0  117310.979016       0  \n",
       "\n",
       "[5 rows x 371 columns]"
      ]
     },
     "execution_count": 3,
     "metadata": {},
     "output_type": "execute_result"
    }
   ],
   "source": [
    "#read the data\n",
    "data.head()"
   ]
  },
  {
   "cell_type": "code",
   "execution_count": 4,
   "metadata": {},
   "outputs": [],
   "source": [
    "#we are dropping the target and non-numeric features from the dataset\n",
    "X=data.drop(labels=['ID','TARGET'],axis=1)"
   ]
  },
  {
   "cell_type": "code",
   "execution_count": 5,
   "metadata": {},
   "outputs": [],
   "source": [
    "#giving y the value of the column \"TARGET\"\n",
    "y=data['TARGET']"
   ]
  },
  {
   "cell_type": "code",
   "execution_count": 6,
   "metadata": {},
   "outputs": [],
   "source": [
    "X_train, X_test, y_train, y_test = train_test_split(X, y, test_size=0.3, random_state=0,stratify=y)"
   ]
  },
  {
   "cell_type": "markdown",
   "metadata": {},
   "source": [
    "Feature Selections\n",
    "In order to increase the accuracy of the model, we need to delete(not include during the training) all the features which do not contribute for the TARGET, features with 0 variance such as constants or quasi constants\n",
    "There are different techniques to do feature selection, with that said, we do not pretend that ours is the most effective one.\n"
   ]
  },
  {
   "cell_type": "code",
   "execution_count": 7,
   "metadata": {},
   "outputs": [],
   "source": [
    "#we will start by using a threshold variance, we will select only the features which have variance above than 1%\n",
    "filter=VarianceThreshold(0.01)\n",
    "X_train=filter.fit_transform(X_train)\n",
    "X_test=filter.transform(X_test)"
   ]
  },
  {
   "cell_type": "code",
   "execution_count": 8,
   "metadata": {},
   "outputs": [
    {
     "data": {
      "text/plain": [
       "((53214, 272), (22806, 272))"
      ]
     },
     "execution_count": 8,
     "metadata": {},
     "output_type": "execute_result"
    }
   ],
   "source": [
    "X_train.shape,X_test.shape"
   ]
  },
  {
   "cell_type": "code",
   "execution_count": 9,
   "metadata": {},
   "outputs": [],
   "source": [
    "#in order to delete the duplicate features, we will transform the columns to rows and return the array to pandas dataframe \n",
    "X_train_T=pd.DataFrame(X_train.T)\n",
    "X_test_T=pd.DataFrame(X_test.T)"
   ]
  },
  {
   "cell_type": "code",
   "execution_count": 10,
   "metadata": {},
   "outputs": [],
   "source": [
    "#identify the duplicates with True and False\n",
    "duplicates=X_train_T.duplicated()"
   ]
  },
  {
   "cell_type": "code",
   "execution_count": 11,
   "metadata": {},
   "outputs": [
    {
     "data": {
      "text/plain": [
       "0    False\n",
       "1    False\n",
       "2    False\n",
       "3    False\n",
       "4    False\n",
       "5    False\n",
       "6    False\n",
       "7    False\n",
       "8    False\n",
       "9    False\n",
       "dtype: bool"
      ]
     },
     "execution_count": 11,
     "metadata": {},
     "output_type": "execute_result"
    }
   ],
   "source": [
    "duplicates.head(10)"
   ]
  },
  {
   "cell_type": "code",
   "execution_count": 12,
   "metadata": {},
   "outputs": [],
   "source": [
    "#we have to filter the features which are not dups, in order to make the selection easier,  we will do an inversion(true will be false and false will be true)\n",
    "non_dup_features=[not index for index in duplicates]"
   ]
  },
  {
   "cell_type": "code",
   "execution_count": 13,
   "metadata": {},
   "outputs": [],
   "source": [
    "#we have to keep only 'True's from the non_dup_features array\n",
    "X_train=X_train_T[non_dup_features].T"
   ]
  },
  {
   "cell_type": "code",
   "execution_count": 14,
   "metadata": {},
   "outputs": [],
   "source": [
    "X_test=X_test_T[non_dup_features].T"
   ]
  },
  {
   "cell_type": "code",
   "execution_count": 15,
   "metadata": {},
   "outputs": [
    {
     "data": {
      "text/plain": [
       "((53214, 255), (22806, 255))"
      ]
     },
     "execution_count": 15,
     "metadata": {},
     "output_type": "execute_result"
    }
   ],
   "source": [
    "#in order to bring the features to the same scale we use StandardScaler also when we apply StandardScaler, we convert the data from DataFrame to Numpy array\n",
    "#only now we can reshape the data from 2-D in 3-D( for CNN model data needs to be 3-D)\n",
    "scaler=StandardScaler()\n",
    "X_train=scaler.fit_transform(X_train)\n",
    "X_test=scaler.transform(X_test)\n",
    "#checking the shape\n",
    "X_train.shape,X_test.shape"
   ]
  },
  {
   "cell_type": "code",
   "execution_count": 16,
   "metadata": {},
   "outputs": [],
   "source": [
    "#reshaping the data\n",
    "X_train=X_train.reshape(53214, 255,1)\n",
    "X_test=X_test.reshape(22806, 255,1)"
   ]
  },
  {
   "cell_type": "code",
   "execution_count": 19,
   "metadata": {},
   "outputs": [
    {
     "data": {
      "text/plain": [
       "(numpy.ndarray, pandas.core.series.Series)"
      ]
     },
     "execution_count": 19,
     "metadata": {},
     "output_type": "execute_result"
    }
   ],
   "source": [
    "type(X_train),type(y_train)"
   ]
  },
  {
   "cell_type": "code",
   "execution_count": 20,
   "metadata": {},
   "outputs": [],
   "source": [
    "#it looks like y is a serie. we need to covert it to numpy array\n",
    "y_train = y_train.to_numpy()\n",
    "y_test = y_test.to_numpy()"
   ]
  },
  {
   "cell_type": "code",
   "execution_count": 28,
   "metadata": {},
   "outputs": [],
   "source": [
    "#Bulding CNN Model\n",
    "epochs=30\n",
    "model=Sequential()\n",
    "model.add(Conv1D(32,3,activation='relu',input_shape=(255,1)))\n",
    "model.add(BatchNormalization())\n",
    "model.add(MaxPool1D(2))\n",
    "model.add(Dropout(0.3))\n",
    "\n",
    "model.add(Conv1D(64,3,activation='relu'))\n",
    "model.add(BatchNormalization())\n",
    "model.add(MaxPool1D(2))\n",
    "model.add(Dropout(0.5))\n",
    "\n",
    "model.add(Conv1D(128,3,activation='relu'))\n",
    "model.add(BatchNormalization())\n",
    "model.add(MaxPool1D(2))\n",
    "model.add(Dropout(0.5))\n",
    "\n",
    "model.add(Flatten())\n",
    "model.add(Dense(256,activation=\"relu\"))\n",
    "model.add(Dropout(0.5))\n",
    "\n",
    "\n",
    "model.add(Dense(1,activation=\"sigmoid\"))\n"
   ]
  },
  {
   "cell_type": "code",
   "execution_count": 29,
   "metadata": {},
   "outputs": [
    {
     "name": "stdout",
     "output_type": "stream",
     "text": [
      "Model: \"sequential_4\"\n",
      "_________________________________________________________________\n",
      "Layer (type)                 Output Shape              Param #   \n",
      "=================================================================\n",
      "conv1d_2 (Conv1D)            (None, 253, 32)           128       \n",
      "_________________________________________________________________\n",
      "batch_normalization_1 (Batch (None, 253, 32)           128       \n",
      "_________________________________________________________________\n",
      "max_pooling1d_1 (MaxPooling1 (None, 126, 32)           0         \n",
      "_________________________________________________________________\n",
      "dropout (Dropout)            (None, 126, 32)           0         \n",
      "_________________________________________________________________\n",
      "conv1d_3 (Conv1D)            (None, 124, 64)           6208      \n",
      "_________________________________________________________________\n",
      "batch_normalization_2 (Batch (None, 124, 64)           256       \n",
      "_________________________________________________________________\n",
      "max_pooling1d_2 (MaxPooling1 (None, 62, 64)            0         \n",
      "_________________________________________________________________\n",
      "dropout_1 (Dropout)          (None, 62, 64)            0         \n",
      "_________________________________________________________________\n",
      "conv1d_4 (Conv1D)            (None, 60, 128)           24704     \n",
      "_________________________________________________________________\n",
      "batch_normalization_3 (Batch (None, 60, 128)           512       \n",
      "_________________________________________________________________\n",
      "max_pooling1d_3 (MaxPooling1 (None, 30, 128)           0         \n",
      "_________________________________________________________________\n",
      "dropout_2 (Dropout)          (None, 30, 128)           0         \n",
      "_________________________________________________________________\n",
      "flatten (Flatten)            (None, 3840)              0         \n",
      "_________________________________________________________________\n",
      "dense (Dense)                (None, 256)               983296    \n",
      "_________________________________________________________________\n",
      "dropout_3 (Dropout)          (None, 256)               0         \n",
      "_________________________________________________________________\n",
      "dense_1 (Dense)              (None, 1)                 257       \n",
      "=================================================================\n",
      "Total params: 1,015,489\n",
      "Trainable params: 1,015,041\n",
      "Non-trainable params: 448\n",
      "_________________________________________________________________\n"
     ]
    }
   ],
   "source": [
    "model.summary()"
   ]
  },
  {
   "cell_type": "code",
   "execution_count": 30,
   "metadata": {},
   "outputs": [],
   "source": [
    "#compile the model\n",
    "model.compile(optimizer=Adam(lr=0.00005),loss='binary_crossentropy',metrics=['accuracy'])"
   ]
  },
  {
   "cell_type": "code",
   "execution_count": 31,
   "metadata": {},
   "outputs": [
    {
     "name": "stderr",
     "output_type": "stream",
     "text": [
      "WARNING: Logging before flag parsing goes to stderr.\n",
      "W0122 11:09:18.135408  8584 deprecation.py:323] From C:\\Users\\endri.mosko\\AppData\\Local\\Continuum\\anaconda3\\envs\\endri\\lib\\site-packages\\tensorflow_core\\python\\ops\\nn_impl.py:183: where (from tensorflow.python.ops.array_ops) is deprecated and will be removed in a future version.\n",
      "Instructions for updating:\n",
      "Use tf.where in 2.0, which has the same broadcast rule as np.where\n"
     ]
    },
    {
     "name": "stdout",
     "output_type": "stream",
     "text": [
      "Train on 53214 samples, validate on 22806 samples\n",
      "Epoch 1/30\n",
      "53214/53214 [==============================] - 52s 984us/sample - loss: 0.2416 - accuracy: 0.9486 - val_loss: 0.2047 - val_accuracy: 0.9602\n",
      "Epoch 2/30\n",
      "53214/53214 [==============================] - 53s 990us/sample - loss: 0.1822 - accuracy: 0.9591 - val_loss: 0.1841 - val_accuracy: 0.9601\n",
      "Epoch 3/30\n",
      "53214/53214 [==============================] - 53s 1ms/sample - loss: 0.1713 - accuracy: 0.9601 - val_loss: 0.1718 - val_accuracy: 0.9605\n",
      "Epoch 4/30\n",
      "53214/53214 [==============================] - 55s 1ms/sample - loss: 0.1674 - accuracy: 0.9602 - val_loss: 0.1888 - val_accuracy: 0.9604\n",
      "Epoch 5/30\n",
      "53214/53214 [==============================] - 59s 1ms/sample - loss: 0.1644 - accuracy: 0.9603 - val_loss: 0.1698 - val_accuracy: 0.9604\n",
      "Epoch 6/30\n",
      "53214/53214 [==============================] - 57s 1ms/sample - loss: 0.1643 - accuracy: 0.9603 - val_loss: 0.1671 - val_accuracy: 0.9604\n",
      "Epoch 7/30\n",
      "53214/53214 [==============================] - 57s 1ms/sample - loss: 0.1617 - accuracy: 0.9604 - val_loss: 0.1619 - val_accuracy: 0.9604\n",
      "Epoch 8/30\n",
      "53214/53214 [==============================] - 62s 1ms/sample - loss: 0.1592 - accuracy: 0.9604 - val_loss: 0.1587 - val_accuracy: 0.9604\n",
      "Epoch 9/30\n",
      "53214/53214 [==============================] - 58s 1ms/sample - loss: 0.1562 - accuracy: 0.9604 - val_loss: 0.1592 - val_accuracy: 0.9604\n",
      "Epoch 10/30\n",
      "53214/53214 [==============================] - 58s 1ms/sample - loss: 0.1551 - accuracy: 0.9604 - val_loss: 0.1580 - val_accuracy: 0.9604\n",
      "Epoch 11/30\n",
      "53214/53214 [==============================] - 64s 1ms/sample - loss: 0.1539 - accuracy: 0.9604 - val_loss: 0.1598 - val_accuracy: 0.9604\n",
      "Epoch 12/30\n",
      "53214/53214 [==============================] - 61s 1ms/sample - loss: 0.1529 - accuracy: 0.9604 - val_loss: 0.1618 - val_accuracy: 0.9604\n",
      "Epoch 13/30\n",
      "53214/53214 [==============================] - 59s 1ms/sample - loss: 0.1537 - accuracy: 0.9604 - val_loss: 0.1585 - val_accuracy: 0.9604\n",
      "Epoch 14/30\n",
      "53214/53214 [==============================] - 63s 1ms/sample - loss: 0.1507 - accuracy: 0.9604 - val_loss: 0.1607 - val_accuracy: 0.9604\n",
      "Epoch 15/30\n",
      "53214/53214 [==============================] - 63s 1ms/sample - loss: 0.1507 - accuracy: 0.9604 - val_loss: 0.1557 - val_accuracy: 0.9604\n",
      "Epoch 16/30\n",
      "53214/53214 [==============================] - 63s 1ms/sample - loss: 0.1504 - accuracy: 0.9604 - val_loss: 0.1572 - val_accuracy: 0.9604\n",
      "Epoch 17/30\n",
      "53214/53214 [==============================] - 60s 1ms/sample - loss: 0.1494 - accuracy: 0.9604 - val_loss: 0.1537 - val_accuracy: 0.9605\n",
      "Epoch 18/30\n",
      "53214/53214 [==============================] - 64s 1ms/sample - loss: 0.1485 - accuracy: 0.9604 - val_loss: 0.1559 - val_accuracy: 0.9604\n",
      "Epoch 19/30\n",
      "53214/53214 [==============================] - 61s 1ms/sample - loss: 0.1495 - accuracy: 0.9604 - val_loss: 0.1597 - val_accuracy: 0.9604\n",
      "Epoch 20/30\n",
      "53214/53214 [==============================] - 67s 1ms/sample - loss: 0.1480 - accuracy: 0.9604 - val_loss: 0.1608 - val_accuracy: 0.9604\n",
      "Epoch 21/30\n",
      "53214/53214 [==============================] - 65s 1ms/sample - loss: 0.1479 - accuracy: 0.9604 - val_loss: 0.1645 - val_accuracy: 0.9603\n",
      "Epoch 22/30\n",
      "53214/53214 [==============================] - 61s 1ms/sample - loss: 0.1471 - accuracy: 0.9604 - val_loss: 0.1617 - val_accuracy: 0.9604\n",
      "Epoch 23/30\n",
      "53214/53214 [==============================] - 64s 1ms/sample - loss: 0.1481 - accuracy: 0.9604 - val_loss: 0.1649 - val_accuracy: 0.9604\n",
      "Epoch 24/30\n",
      "53214/53214 [==============================] - 61s 1ms/sample - loss: 0.1468 - accuracy: 0.9604 - val_loss: 0.1603 - val_accuracy: 0.9604\n",
      "Epoch 25/30\n",
      "53214/53214 [==============================] - 63s 1ms/sample - loss: 0.1479 - accuracy: 0.9604 - val_loss: 0.1602 - val_accuracy: 0.9602\n",
      "Epoch 26/30\n",
      "53214/53214 [==============================] - 60s 1ms/sample - loss: 0.1457 - accuracy: 0.9604 - val_loss: 0.1588 - val_accuracy: 0.9604\n",
      "Epoch 27/30\n",
      "53214/53214 [==============================] - 66s 1ms/sample - loss: 0.1459 - accuracy: 0.9604 - val_loss: 0.1579 - val_accuracy: 0.9603\n",
      "Epoch 28/30\n",
      "53214/53214 [==============================] - 63s 1ms/sample - loss: 0.1462 - accuracy: 0.9604 - val_loss: 0.1586 - val_accuracy: 0.9604\n",
      "Epoch 29/30\n",
      "53214/53214 [==============================] - 64s 1ms/sample - loss: 0.1462 - accuracy: 0.9604 - val_loss: 0.1549 - val_accuracy: 0.9604\n",
      "Epoch 30/30\n",
      "53214/53214 [==============================] - 68s 1ms/sample - loss: 0.1454 - accuracy: 0.9604 - val_loss: 0.1513 - val_accuracy: 0.9604\n"
     ]
    }
   ],
   "source": [
    "#fit the model\n",
    "model_data=model.fit(X_train,y_train,epochs=epochs,validation_data=(X_test,y_test),verbose=1)"
   ]
  },
  {
   "cell_type": "code",
   "execution_count": 32,
   "metadata": {},
   "outputs": [],
   "source": [
    "#function which plot the data from model_data\n",
    "def learningCurve(model_data, epoch):\n",
    "    # Plot training & validation accuracy values\n",
    "    epoch_range = range(1, epoch+1)\n",
    "    plt.plot(epoch_range, model_data.history['accuracy'])\n",
    "    plt.plot(epoch_range, model_data.history['val_accuracy'])\n",
    "    plt.title('Model accuracy')\n",
    "    plt.ylabel('Accuracy')\n",
    "    plt.xlabel('Epoch')\n",
    "    plt.legend(['Train', 'Val'], loc='upper left')\n",
    "    plt.show()\n",
    "\n",
    "    # Plot training & validation loss values\n",
    "    plt.plot(epoch_range, model_data.history['loss'])\n",
    "    plt.plot(epoch_range, model_data.history['val_loss'])\n",
    "    plt.title('Model loss')\n",
    "    plt.ylabel('Loss')\n",
    "    plt.xlabel('Epoch')\n",
    "    plt.legend(['Train', 'Val'], loc='upper left')\n",
    "    plt.show()"
   ]
  },
  {
   "cell_type": "code",
   "execution_count": 33,
   "metadata": {},
   "outputs": [
    {
     "data": {
      "image/png": "[encoded data removed]",
      "text/plain": [
       "<Figure size 432x288 with 1 Axes>"
      ]
     },
     "metadata": {
      "needs_background": "light"
     },
     "output_type": "display_data"
    },
    {
     "data": {
      "image/png": "[encoded data removed]",
      "text/plain": [
       "<Figure size 432x288 with 1 Axes>"
      ]
     },
     "metadata": {
      "needs_background": "light"
     },
     "output_type": "display_data"
    }
   ],
   "source": [
    "learningCurve(model_data, epochs)"
   ]
  },
  {
   "cell_type": "code",
   "execution_count": null,
   "metadata": {},
   "outputs": [],
   "source": []
  }
 ],
 "metadata": {
  "kernelspec": {
   "display_name": "Python 3",
   "language": "python",
   "name": "python3"
  },
  "language_info": {
   "codemirror_mode": {
    "name": "ipython",
    "version": 3
   },
   "file_extension": ".py",
   "mimetype": "text/x-python",
   "name": "python",
   "nbconvert_exporter": "python",
   "pygments_lexer": "ipython3",
   "version": "3.6.9"
  }
 },
 "nbformat": 4,
 "nbformat_minor": 2
}
